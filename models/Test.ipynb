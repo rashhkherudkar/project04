{
 "cells": [
  {
   "cell_type": "code",
   "execution_count": 2,
   "id": "db6e4987",
   "metadata": {},
   "outputs": [],
   "source": [
    "import json\n",
    "import pickle"
   ]
  },
  {
   "cell_type": "code",
   "execution_count": 4,
   "id": "6099437c",
   "metadata": {},
   "outputs": [],
   "source": [
    "with open(r'C:\\Users\\PARAJ\\Desktop\\PARAJ\\Data_Science_(Daily Class Notes)\\Regression\\Your_model_solutions\\38_Paraj_Shirsath_Autos_Dataset\\models\\Linear_model.pkl', \"rb\") as f:\n",
    "            model = pickle.load(f)"
   ]
  },
  {
   "cell_type": "code",
   "execution_count": 18,
   "id": "8b1d97e8",
   "metadata": {},
   "outputs": [],
   "source": [
    "with open(r'C:\\Users\\PARAJ\\Desktop\\PARAJ\\Data_Science_(Daily Class Notes)\\Regression\\Your_model_solutions\\38_Paraj_Shirsath_Autos_Dataset\\models\\project_data.json', \"r\") as f:\n",
    "            json_data = json.load(f)"
   ]
  },
  {
   "cell_type": "code",
   "execution_count": 26,
   "id": "73fe4585",
   "metadata": {},
   "outputs": [
    {
     "name": "stdout",
     "output_type": "stream",
     "text": [
      "<option value =\"symboling\" > symboling</option>\n",
      "<option value =\"normalized-losses\" > normalized-losses</option>\n",
      "<option value =\"fuel-type\" > fuel-type</option>\n",
      "<option value =\"aspiration\" > aspiration</option>\n",
      "<option value =\"num-of-doors\" > num-of-doors</option>\n",
      "<option value =\"drive-wheels\" > drive-wheels</option>\n",
      "<option value =\"engine-location\" > engine-location</option>\n",
      "<option value =\"wheel-base\" > wheel-base</option>\n",
      "<option value =\"length\" > length</option>\n",
      "<option value =\"width\" > width</option>\n",
      "<option value =\"height\" > height</option>\n",
      "<option value =\"curb-weight\" > curb-weight</option>\n",
      "<option value =\"num-of-cylinders\" > num-of-cylinders</option>\n",
      "<option value =\"engine-size\" > engine-size</option>\n",
      "<option value =\"bore\" > bore</option>\n",
      "<option value =\"stroke\" > stroke</option>\n",
      "<option value =\"compression-ratio\" > compression-ratio</option>\n",
      "<option value =\"horsepower\" > horsepower</option>\n",
      "<option value =\"peak-rpm\" > peak-rpm</option>\n",
      "<option value =\"city-mpg\" > city-mpg</option>\n",
      "<option value =\"highway-mpg\" > highway-mpg</option>\n",
      "<option value =\"make_alfa-romero\" > make_alfa-romero</option>\n",
      "<option value =\"make_audi\" > make_audi</option>\n",
      "<option value =\"make_bmw\" > make_bmw</option>\n",
      "<option value =\"make_chevrolet\" > make_chevrolet</option>\n",
      "<option value =\"make_dodge\" > make_dodge</option>\n",
      "<option value =\"make_honda\" > make_honda</option>\n",
      "<option value =\"make_isuzu\" > make_isuzu</option>\n",
      "<option value =\"make_jaguar\" > make_jaguar</option>\n",
      "<option value =\"make_mazda\" > make_mazda</option>\n",
      "<option value =\"make_mercedes-benz\" > make_mercedes-benz</option>\n",
      "<option value =\"make_mercury\" > make_mercury</option>\n",
      "<option value =\"make_mitsubishi\" > make_mitsubishi</option>\n",
      "<option value =\"make_nissan\" > make_nissan</option>\n",
      "<option value =\"make_peugot\" > make_peugot</option>\n",
      "<option value =\"make_plymouth\" > make_plymouth</option>\n",
      "<option value =\"make_porsche\" > make_porsche</option>\n",
      "<option value =\"make_renault\" > make_renault</option>\n",
      "<option value =\"make_saab\" > make_saab</option>\n",
      "<option value =\"make_subaru\" > make_subaru</option>\n",
      "<option value =\"make_toyota\" > make_toyota</option>\n",
      "<option value =\"make_volkswagen\" > make_volkswagen</option>\n",
      "<option value =\"make_volvo\" > make_volvo</option>\n",
      "<option value =\"body-style_convertible\" > body-style_convertible</option>\n",
      "<option value =\"body-style_hardtop\" > body-style_hardtop</option>\n",
      "<option value =\"body-style_hatchback\" > body-style_hatchback</option>\n",
      "<option value =\"body-style_sedan\" > body-style_sedan</option>\n",
      "<option value =\"body-style_wagon\" > body-style_wagon</option>\n",
      "<option value =\"engine-type_dohc\" > engine-type_dohc</option>\n",
      "<option value =\"engine-type_dohcv\" > engine-type_dohcv</option>\n",
      "<option value =\"engine-type_l\" > engine-type_l</option>\n",
      "<option value =\"engine-type_ohc\" > engine-type_ohc</option>\n",
      "<option value =\"engine-type_ohcf\" > engine-type_ohcf</option>\n",
      "<option value =\"engine-type_ohcv\" > engine-type_ohcv</option>\n",
      "<option value =\"engine-type_rotor\" > engine-type_rotor</option>\n",
      "<option value =\"fuel-system_1bbl\" > fuel-system_1bbl</option>\n",
      "<option value =\"fuel-system_2bbl\" > fuel-system_2bbl</option>\n",
      "<option value =\"fuel-system_4bbl\" > fuel-system_4bbl</option>\n",
      "<option value =\"fuel-system_idi\" > fuel-system_idi</option>\n",
      "<option value =\"fuel-system_mfi\" > fuel-system_mfi</option>\n",
      "<option value =\"fuel-system_mpfi\" > fuel-system_mpfi</option>\n",
      "<option value =\"fuel-system_spdi\" > fuel-system_spdi</option>\n",
      "<option value =\"fuel-system_spfi\" > fuel-system_spfi</option>\n"
     ]
    }
   ],
   "source": [
    "l=json_data['columns']\n",
    "l\n",
    "for i in l:\n",
    "    print(f'<option value =\"{i}\" > {i}</option>')"
   ]
  },
  {
   "cell_type": "code",
   "execution_count": null,
   "id": "ea9d25cd",
   "metadata": {},
   "outputs": [],
   "source": [
    "<option value = \"Super built-up Area\">Super built-up Area</option>"
   ]
  },
  {
   "cell_type": "code",
   "execution_count": null,
   "id": "aa89324c",
   "metadata": {},
   "outputs": [],
   "source": [
    "<option value = 'make_volkswagen' > make_volkswagen </option>"
   ]
  }
 ],
 "metadata": {
  "kernelspec": {
   "display_name": "Python 3 (ipykernel)",
   "language": "python",
   "name": "python3"
  },
  "language_info": {
   "codemirror_mode": {
    "name": "ipython",
    "version": 3
   },
   "file_extension": ".py",
   "mimetype": "text/x-python",
   "name": "python",
   "nbconvert_exporter": "python",
   "pygments_lexer": "ipython3",
   "version": "3.9.12"
  }
 },
 "nbformat": 4,
 "nbformat_minor": 5
}
